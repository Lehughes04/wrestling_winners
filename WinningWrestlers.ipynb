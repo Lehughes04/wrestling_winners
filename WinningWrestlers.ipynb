{
 "cells": [
  {
   "cell_type": "markdown",
   "metadata": {},
   "source": [
    "# Winnining Wrestlers Entertainment\n",
    "\n",
    "In this activity you will be taking four seperate csvs that were scraped down from a wrestling database, merging them together, and then creating charts to visualize a wrestler's wins and losses over the course of four years.\n",
    "\n",
    "### Part 1 - Macho Merging\n",
    "\n",
    "* You will likely need to perform three different merges over the course of this activity, changing the names of your columns as you go along."
   ]
  },
  {
   "cell_type": "code",
   "execution_count": 16,
   "metadata": {
    "collapsed": true
   },
   "outputs": [],
   "source": [
    "import pandas as pd\n",
    "import matplotlib.pyplot as plt\n",
    "import numpy as np"
   ]
  },
  {
   "cell_type": "code",
   "execution_count": 17,
   "metadata": {
    "collapsed": true
   },
   "outputs": [],
   "source": [
    "wwe13 = pd.read_csv('../Data/WWE-Data-2013.csv')\n",
    "wwe14 = pd.read_csv('../Data/WWE-Data-2014.csv')\n",
    "wwe15 = pd.read_csv('../Data/WWE-Data-2015.csv')\n",
    "wwe16 = pd.read_csv('../Data/WWE-Data-2016.csv')\n"
   ]
  },
  {
   "cell_type": "code",
   "execution_count": 18,
   "metadata": {
    "collapsed": true
   },
   "outputs": [],
   "source": [
    "# Rename columns\n",
    "\n",
    "years_df = zip([2013, 2014, 2015, 2016],\n",
    "              [wwe13, wwe14, wwe15, wwe16])\n",
    "for year, df in years_df:\n",
    "    df.rename(columns = {\"Wins\": str(year) + \" Wins\",\n",
    "                       \"Losses\": str(year) + \" Losses\",\n",
    "                       \"Draws\": str(year) + \" Draws\"\n",
    "                        }, inplace = True)"
   ]
  },
  {
   "cell_type": "code",
   "execution_count": 19,
   "metadata": {},
   "outputs": [
    {
     "data": {
      "text/html": [
       "<div>\n",
       "<style>\n",
       "    .dataframe thead tr:only-child th {\n",
       "        text-align: right;\n",
       "    }\n",
       "\n",
       "    .dataframe thead th {\n",
       "        text-align: left;\n",
       "    }\n",
       "\n",
       "    .dataframe tbody tr th {\n",
       "        vertical-align: top;\n",
       "    }\n",
       "</style>\n",
       "<table border=\"1\" class=\"dataframe\">\n",
       "  <thead>\n",
       "    <tr style=\"text-align: right;\">\n",
       "      <th></th>\n",
       "      <th>Wrestler</th>\n",
       "      <th>2013 Wins</th>\n",
       "      <th>2013 Losses</th>\n",
       "      <th>2013 Draws</th>\n",
       "      <th>2014 Wins</th>\n",
       "      <th>2014 Losses</th>\n",
       "      <th>2014 Draws</th>\n",
       "      <th>2015 Wins</th>\n",
       "      <th>2015 Losses</th>\n",
       "      <th>2015 Draws</th>\n",
       "      <th>2016 Wins</th>\n",
       "      <th>2016 Losses</th>\n",
       "      <th>2016 Draws</th>\n",
       "    </tr>\n",
       "  </thead>\n",
       "  <tbody>\n",
       "    <tr>\n",
       "      <th>0</th>\n",
       "      <td>Daniel Bryan</td>\n",
       "      <td>177.0</td>\n",
       "      <td>37.0</td>\n",
       "      <td>6.0</td>\n",
       "      <td>35.0</td>\n",
       "      <td>16.0</td>\n",
       "      <td>2.0</td>\n",
       "      <td>51.0</td>\n",
       "      <td>7.0</td>\n",
       "      <td>0.0</td>\n",
       "      <td>0.0</td>\n",
       "      <td>0.0</td>\n",
       "      <td>0.0</td>\n",
       "    </tr>\n",
       "    <tr>\n",
       "      <th>1</th>\n",
       "      <td>Dean Ambrose</td>\n",
       "      <td>70.0</td>\n",
       "      <td>134.0</td>\n",
       "      <td>4.0</td>\n",
       "      <td>129.0</td>\n",
       "      <td>36.0</td>\n",
       "      <td>2.0</td>\n",
       "      <td>150.0</td>\n",
       "      <td>63.0</td>\n",
       "      <td>5.0</td>\n",
       "      <td>133.0</td>\n",
       "      <td>67.0</td>\n",
       "      <td>4.0</td>\n",
       "    </tr>\n",
       "    <tr>\n",
       "      <th>2</th>\n",
       "      <td>Antonio Cesaro</td>\n",
       "      <td>80.0</td>\n",
       "      <td>126.0</td>\n",
       "      <td>1.0</td>\n",
       "      <td>5.0</td>\n",
       "      <td>24.0</td>\n",
       "      <td>0.0</td>\n",
       "      <td>0.0</td>\n",
       "      <td>0.0</td>\n",
       "      <td>0.0</td>\n",
       "      <td>0.0</td>\n",
       "      <td>0.0</td>\n",
       "      <td>0.0</td>\n",
       "    </tr>\n",
       "    <tr>\n",
       "      <th>3</th>\n",
       "      <td>Seth Rollins</td>\n",
       "      <td>50.0</td>\n",
       "      <td>150.0</td>\n",
       "      <td>4.0</td>\n",
       "      <td>87.0</td>\n",
       "      <td>105.0</td>\n",
       "      <td>4.0</td>\n",
       "      <td>51.0</td>\n",
       "      <td>124.0</td>\n",
       "      <td>1.0</td>\n",
       "      <td>39.0</td>\n",
       "      <td>75.0</td>\n",
       "      <td>4.0</td>\n",
       "    </tr>\n",
       "    <tr>\n",
       "      <th>4</th>\n",
       "      <td>Randy Orton</td>\n",
       "      <td>129.0</td>\n",
       "      <td>63.0</td>\n",
       "      <td>8.0</td>\n",
       "      <td>33.0</td>\n",
       "      <td>87.0</td>\n",
       "      <td>5.0</td>\n",
       "      <td>81.0</td>\n",
       "      <td>10.0</td>\n",
       "      <td>1.0</td>\n",
       "      <td>39.0</td>\n",
       "      <td>21.0</td>\n",
       "      <td>0.0</td>\n",
       "    </tr>\n",
       "  </tbody>\n",
       "</table>\n",
       "</div>"
      ],
      "text/plain": [
       "         Wrestler  2013 Wins  2013 Losses  2013 Draws  2014 Wins  2014 Losses  \\\n",
       "0    Daniel Bryan      177.0         37.0         6.0       35.0         16.0   \n",
       "1    Dean Ambrose       70.0        134.0         4.0      129.0         36.0   \n",
       "2  Antonio Cesaro       80.0        126.0         1.0        5.0         24.0   \n",
       "3    Seth Rollins       50.0        150.0         4.0       87.0        105.0   \n",
       "4     Randy Orton      129.0         63.0         8.0       33.0         87.0   \n",
       "\n",
       "   2014 Draws  2015 Wins  2015 Losses  2015 Draws  2016 Wins  2016 Losses  \\\n",
       "0         2.0       51.0          7.0         0.0        0.0          0.0   \n",
       "1         2.0      150.0         63.0         5.0      133.0         67.0   \n",
       "2         0.0        0.0          0.0         0.0        0.0          0.0   \n",
       "3         4.0       51.0        124.0         1.0       39.0         75.0   \n",
       "4         5.0       81.0         10.0         1.0       39.0         21.0   \n",
       "\n",
       "   2016 Draws  \n",
       "0         0.0  \n",
       "1         4.0  \n",
       "2         0.0  \n",
       "3         4.0  \n",
       "4         0.0  "
      ]
     },
     "execution_count": 19,
     "metadata": {},
     "output_type": "execute_result"
    }
   ],
   "source": [
    "# Merge all dfs\n",
    "\n",
    "from functools import reduce\n",
    "\n",
    "allYears = reduce(lambda left, right: pd.merge(left, right,\n",
    "                on = [\"Wrestler\"], how = \"outer\"),\n",
    "                 [wwe13, wwe14, wwe15, wwe16])\n",
    "allYears = allYears.fillna(0)\n",
    "allYears.head()"
   ]
  },
  {
   "cell_type": "markdown",
   "metadata": {},
   "source": [
    "### Part 2 - Time to Calculate!\n",
    "\n",
    "* When your tables have been merged together into one data frame, calculate the total number of wins, losses, and draws a wrestler has had over the course of their career. Also create a new column that will hold the total matches a wrestler has been in over the course of their career.\n",
    "\n",
    "    * You will need to convert all NaN values to a number so that you can perform these calculations\n",
    "\n",
    "* We are only interested in those wrestlers who have been with the WWE from 2013 to 2016. You will need to come up with some way of filtering out rows that do not meet these conditions.\n",
    "    \n",
    "    * Also set the 'Wrestler' column as your key for easier referencing later on."
   ]
  },
  {
   "cell_type": "code",
   "execution_count": 20,
   "metadata": {
    "collapsed": true
   },
   "outputs": [],
   "source": [
    "wins = allYears[['Wrestler','2013 Wins','2014 Wins','2015 Wins','2016 Wins']].set_index(\"Wrestler\")\n",
    "losses = allYears[['Wrestler','2013 Losses','2014 Losses','2015 Losses', '2016 Losses']].set_index(\"Wrestler\")\n",
    "draw = allYears[['Wrestler','2013 Draws','2014 Draws','2015 Draws','2016 Draws']].set_index(\"Wrestler\")"
   ]
  },
  {
   "cell_type": "code",
   "execution_count": 21,
   "metadata": {},
   "outputs": [
    {
     "data": {
      "image/png": "[encoded data removed]",
      "text/plain": [
       "<matplotlib.figure.Figure at 0x28aa1688dd8>"
      ]
     },
     "metadata": {},
     "output_type": "display_data"
    }
   ],
   "source": [
    "winPlot, = plt.plot([2013, 2014, 2015, 2016],\n",
    "                    wins.loc[\"Daniel Bryan\", ['2013 Wins','2014 Wins','2015 Wins','2016 Wins']],\n",
    "                   label = \"Wins\")\n",
    "lossPlot, = plt.plot([2013, 2014, 2015, 2016],\n",
    "                    losses.loc[\"Daniel Bryan\", ['2013 Losses','2014 Losses','2015 Losses', '2016 Losses']],\n",
    "                    label = \"Losses\")\n",
    "drawPlot, = plt.plot([2013, 2014, 2015, 2016],\n",
    "                    draw.loc[\"Daniel Bryan\", ['2013 Draws','2014 Draws','2015 Draws','2016 Draws']],\n",
    "                    label = \"Draws\")\n",
    "plt.legend()\n",
    "plt.show()"
   ]
  },
  {
   "cell_type": "code",
   "execution_count": null,
   "metadata": {
    "collapsed": true
   },
   "outputs": [],
   "source": []
  }
 ],
 "metadata": {
  "kernelspec": {
   "display_name": "Python [conda env:PythonData]",
   "language": "python",
   "name": "conda-env-PythonData-py"
  },
  "language_info": {
   "codemirror_mode": {
    "name": "ipython",
    "version": 3
   },
   "file_extension": ".py",
   "mimetype": "text/x-python",
   "name": "python",
   "nbconvert_exporter": "python",
   "pygments_lexer": "ipython3",
   "version": "3.6.1"
  }
 },
 "nbformat": 4,
 "nbformat_minor": 2
}
